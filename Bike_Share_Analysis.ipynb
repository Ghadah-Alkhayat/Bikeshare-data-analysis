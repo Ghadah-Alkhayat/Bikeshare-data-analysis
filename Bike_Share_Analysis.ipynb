{
 "cells": [
  {
   "cell_type": "markdown",
   "metadata": {},
   "source": [
    "# 2016 US Bike Share Activity Snapshot\n",
    "\n",
    "## Table of Contents\n",
    "- [Introduction](#intro)\n",
    "- [Posing Questions](#pose_questions)\n",
    "- [Data Collection and Wrangling](#wrangling)\n",
    "  - [Condensing the Trip Data](#condensing)\n",
    "- [Exploratory Data Analysis](#eda)\n",
    "  - [Statistics](#statistics)\n",
    "  - [Visualizations](#visualizations)\n",
    "- [Performing Your Own Analysis](#eda_continued)\n",
    "- [Conclusions](#conclusions)\n",
    "\n",
    "<a id='intro'></a>\n",
    "## Introduction\n",
    "\n",
    "> **Tip**: Quoted sections like this will provide helpful instructions on how to navigate and use a Jupyter notebook.\n",
    "\n",
    "Over the past decade, bicycle-sharing systems have been growing in number and popularity in cities across the world. Bicycle-sharing systems allow users to rent bicycles for short trips, typically 30 minutes or less. Thanks to the rise in information technologies, it is easy for a user of the system to access a dock within the system to unlock or return bicycles. These technologies also provide a wealth of data that can be used to explore how these bike-sharing systems are used.\n",
    "\n",
    "In this project, you will perform an exploratory analysis on data provided by [Motivate](https://www.motivateco.com/), a bike-share system provider for many major cities in the United States. You will compare the system usage between three large cities: New York City, Chicago, and Washington, DC. You will also see if there are any differences within each system for those users that are registered, regular users and those users that are short-term, casual users."
   ]
  },
  {
   "cell_type": "markdown",
   "metadata": {},
   "source": [
    "<a id='pose_questions'></a>\n",
    "## Posing Questions\n",
    "\n",
    "Before looking at the bike sharing data, you should start by asking questions you might want to understand about the bike share data. Consider, for example, if you were working for Motivate. What kinds of information would you want to know about in order to make smarter business decisions? If you were a user of the bike-share service, what factors might influence how you would want to use the service?\n",
    "\n",
    "**Question 1**: Write at least two questions related to bike sharing that you think could be answered by data.\n",
    "\n",
    "**Answer**: \n",
    "1-what are the characteristics of frequent users, such as their age, gender, economic class...etc.\n",
    "\n",
    "2-what are the popular city areas for biking? \n",
    "\n",
    "3-what is the difference in biking duration in all week days for regular users and casual users?\n",
    "\n",
    "\n",
    "> **Tip**: If you double click on this cell, you will see the text change so that all of the formatting is removed. This allows you to edit this block of text. This block of text is written using [Markdown](http://daringfireball.net/projects/markdown/syntax), which is a way to format text using headers, links, italics, and many other options using a plain-text syntax. You will also use Markdown later in the Nanodegree program. Use **Shift** + **Enter** or **Shift** + **Return** to run the cell and show its rendered form."
   ]
  },
  {
   "cell_type": "code",
   "execution_count": null,
   "metadata": {},
   "outputs": [],
   "source": []
  },
  {
   "cell_type": "code",
   "execution_count": null,
   "metadata": {},
   "outputs": [],
   "source": []
  },
  {
   "cell_type": "markdown",
   "metadata": {},
   "source": [
    "<a id='wrangling'></a>\n",
    "## Data Collection and Wrangling\n",
    "\n",
    "Now it's time to collect and explore our data. In this project, we will focus on the record of individual trips taken in 2016 from our selected cities: New York City, Chicago, and Washington, DC. Each of these cities has a page where we can freely download the trip data.:\n",
    "\n",
    "- New York City (Citi Bike): [Link](https://www.citibikenyc.com/system-data)\n",
    "- Chicago (Divvy): [Link](https://www.divvybikes.com/system-data)\n",
    "- Washington, DC (Capital Bikeshare): [Link](https://www.capitalbikeshare.com/system-data)\n",
    "\n",
    "If you visit these pages, you will notice that each city has a different way of delivering its data. Chicago updates with new data twice a year, Washington DC is quarterly, and New York City is monthly. **However, you do not need to download the data yourself.** The data has already been collected for you in the `/data/` folder of the project files. While the original data for 2016 is spread among multiple files for each city, the files in the `/data/` folder collect all of the trip data for the year into one file per city. Some data wrangling of inconsistencies in timestamp format within each city has already been performed for you. In addition, a random 2% sample of the original data is taken to make the exploration more manageable. \n",
    "\n",
    "**Question 2**: However, there is still a lot of data for us to investigate, so it's a good idea to start off by looking at one entry from each of the cities we're going to analyze. Run the first code cell below to load some packages and functions that you'll be using in your analysis. Then, complete the second code cell to print out the first trip recorded from each of the cities (the second line of each data file).\n",
    "\n",
    "> **Tip**: You can run a code cell like you formatted Markdown cells above by clicking on the cell and using the keyboard shortcut **Shift** + **Enter** or **Shift** + **Return**. Alternatively, a code cell can be executed using the **Play** button in the toolbar after selecting it. While the cell is running, you will see an asterisk in the message to the left of the cell, i.e. `In [*]:`. The asterisk will change into a number to show that execution has completed, e.g. `In [1]`. If there is output, it will show up as `Out [1]:`, with an appropriate number to match the \"In\" number."
   ]
  },
  {
   "cell_type": "code",
   "execution_count": 4,
   "metadata": {},
   "outputs": [],
   "source": [
    "## import all necessary packages and functions.\n",
    "import csv # read and write csv files\n",
    "from datetime import datetime # operations to parse dates\n",
    "from pprint import pprint # use to print data structures like dictionaries in\n",
    "                          # a nicer way than the base print function."
   ]
  },
  {
   "cell_type": "code",
   "execution_count": 2,
   "metadata": {},
   "outputs": [
    {
     "name": "stdout",
     "output_type": "stream",
     "text": [
      "\n",
      "City: NYC\n",
      "OrderedDict([('tripduration', '839'),\n",
      "             ('starttime', '1/1/2016 00:09:55'),\n",
      "             ('stoptime', '1/1/2016 00:23:54'),\n",
      "             ('start station id', '532'),\n",
      "             ('start station name', 'S 5 Pl & S 4 St'),\n",
      "             ('start station latitude', '40.710451'),\n",
      "             ('start station longitude', '-73.960876'),\n",
      "             ('end station id', '401'),\n",
      "             ('end station name', 'Allen St & Rivington St'),\n",
      "             ('end station latitude', '40.72019576'),\n",
      "             ('end station longitude', '-73.98997825'),\n",
      "             ('bikeid', '17109'),\n",
      "             ('usertype', 'Customer'),\n",
      "             ('birth year', ''),\n",
      "             ('gender', '0')])\n",
      "\n",
      "City: Chicago\n",
      "OrderedDict([('trip_id', '9080545'),\n",
      "             ('starttime', '3/31/2016 23:30'),\n",
      "             ('stoptime', '3/31/2016 23:46'),\n",
      "             ('bikeid', '2295'),\n",
      "             ('tripduration', '926'),\n",
      "             ('from_station_id', '156'),\n",
      "             ('from_station_name', 'Clark St & Wellington Ave'),\n",
      "             ('to_station_id', '166'),\n",
      "             ('to_station_name', 'Ashland Ave & Wrightwood Ave'),\n",
      "             ('usertype', 'Subscriber'),\n",
      "             ('gender', 'Male'),\n",
      "             ('birthyear', '1990')])\n",
      "\n",
      "City: Washington\n",
      "OrderedDict([('Duration (ms)', '427387'),\n",
      "             ('Start date', '3/31/2016 22:57'),\n",
      "             ('End date', '3/31/2016 23:04'),\n",
      "             ('Start station number', '31602'),\n",
      "             ('Start station', 'Park Rd & Holmead Pl NW'),\n",
      "             ('End station number', '31207'),\n",
      "             ('End station', 'Georgia Ave and Fairmont St NW'),\n",
      "             ('Bike number', 'W20842'),\n",
      "             ('Member Type', 'Registered')])\n"
     ]
    }
   ],
   "source": [
    "def print_first_point(filename):\n",
    "    \"\"\"\n",
    "    This function prints and returns the first data point (second row) from\n",
    "    a csv file that includes a header row.\n",
    "    \"\"\"\n",
    "    # print city name for reference\n",
    "    city = filename.split('-')[0].split('/')[-1]\n",
    "    print('\\nCity: {}'.format(city))\n",
    "    \n",
    "    with open(filename, 'r') as f_in:\n",
    "\n",
    "        ## see https://docs.python.org/3/library/csv.html           ##\n",
    "        trip_reader=csv.DictReader(f_in)\n",
    "        \n",
    "        \n",
    "        ## TODO: Use a function on the DictReader object to read the     ##\n",
    "        ## first trip from the data file and store it in a variable.     ##\n",
    "        ## see https://docs.python.org/3/library/csv.html#reader-objects ##\n",
    "        first_trip = next(trip_reader)\n",
    "        pprint(first_trip)\n",
    "        \n",
    "        \n",
    "        ## TODO: Use the pprint library to print the first trip. ##\n",
    "        ## see https://docs.python.org/3/library/pprint.html     ##\n",
    "        \n",
    "    # output city name and first trip for later testing\n",
    "    return (city, first_trip)\n",
    "\n",
    "# list of files for each city\n",
    "data_files = ['./data/NYC-CitiBike-2016.csv',\n",
    "              './data/Chicago-Divvy-2016.csv',\n",
    "              './data/Washington-CapitalBikeshare-2016.csv',]\n",
    "\n",
    "# print the first trip from each file, store in dictionary\n",
    "example_trips = {}\n",
    "for data_file in data_files:\n",
    "    city, first_trip = print_first_point(data_file)\n",
    "    example_trips[city] = first_trip"
   ]
  },
  {
   "cell_type": "markdown",
   "metadata": {},
   "source": [
    "If everything has been filled out correctly, you should see below the printout of each city name (which has been parsed from the data file name) that the first trip has been parsed in the form of a dictionary. When you set up a `DictReader` object, the first row of the data file is normally interpreted as column names. Every other row in the data file will use those column names as keys, as a dictionary is generated for each row.\n",
    "\n",
    "This will be useful since we can refer to quantities by an easily-understandable label instead of just a numeric index. For example, if we have a trip stored in the variable `row`, then we would rather get the trip duration from `row['duration']` instead of `row[0]`.\n",
    "\n",
    "<a id='condensing'></a>\n",
    "### Condensing the Trip Data\n",
    "\n",
    "It should also be observable from the above printout that each city provides different information. Even where the information is the same, the column names and formats are sometimes different. To make things as simple as possible when we get to the actual exploration, we should trim and clean the data. Cleaning the data makes sure that the data formats across the cities are consistent, while trimming focuses only on the parts of the data we are most interested in to make the exploration easier to work with.\n",
    "\n",
    "You will generate new data files with five values of interest for each trip: trip duration, starting month, starting hour, day of the week, and user type. Each of these may require additional wrangling depending on the city:\n",
    "\n",
    "- **Duration**: This has been given to us in seconds (New York, Chicago) or milliseconds (Washington). A more natural unit of analysis will be if all the trip durations are given in terms of minutes.\n",
    "- **Month**, **Hour**, **Day of Week**: Ridership volume is likely to change based on the season, time of day, and whether it is a weekday or weekend. Use the start time of the trip to obtain these values. The New York City data includes the seconds in their timestamps, while Washington and Chicago do not. The [`datetime`](https://docs.python.org/3/library/datetime.html) package will be very useful here to make the needed conversions.\n",
    "- **User Type**: It is possible that users who are subscribed to a bike-share system will have different patterns of use compared to users who only have temporary passes. Washington divides its users into two types: 'Registered' for users with annual, monthly, and other longer-term subscriptions, and 'Casual', for users with 24-hour, 3-day, and other short-term passes. The New York and Chicago data uses 'Subscriber' and 'Customer' for these groups, respectively. For consistency, you will convert the Washington labels to match the other two.\n",
    "\n",
    "\n",
    "**Question 3a**: Complete the helper functions in the code cells below to address each of the cleaning tasks described above."
   ]
  },
  {
   "cell_type": "code",
   "execution_count": 3,
   "metadata": {},
   "outputs": [],
   "source": [
    "def duration_in_mins(datum, city):\n",
    "    \"\"\"\n",
    "    Takes as input a dictionary containing info about a single trip (datum) and\n",
    "    its origin city (city) and returns the trip duration in units of minutes.\n",
    "    \n",
    "    Remember that Washington is in terms of milliseconds while Chicago and NYC\n",
    "    are in terms of seconds. \n",
    "    \n",
    "    HINT: The csv module reads in all of the data as strings, including numeric\n",
    "    values. You will need a function to convert the strings into an appropriate\n",
    "    numeric type when making your transformations.\n",
    "    see https://docs.python.org/3/library/functions.html\n",
    "    \"\"\"\n",
    "    if city==\"Washington\": \n",
    "        d=datum['Duration (ms)'] \n",
    "        duration=float(d)/60000\n",
    "        \n",
    "    elif city=='Chicago': \n",
    "        d=datum['tripduration']\n",
    "        duration=float(d)/60\n",
    "        \n",
    "    elif city=='NYC': \n",
    "        d=datum['tripduration']\n",
    "        duration=float(d)/60\n",
    "        \n",
    "    return duration\n",
    "\n",
    "\n",
    "# Some tests to check that your code works. There should be no output if all of\n",
    "# the assertions pass. The `example_trips` dictionary was obtained from when\n",
    "# you printed the first trip from each of the original data files.\n",
    "tests = {'NYC': 13.9833,\n",
    "         'Chicago': 15.4333,\n",
    "         'Washington': 7.1231}\n",
    "\n",
    "for city in tests:\n",
    "    assert abs(duration_in_mins(example_trips[city], city) - tests[city]) < .001\n"
   ]
  },
  {
   "cell_type": "code",
   "execution_count": 4,
   "metadata": {},
   "outputs": [],
   "source": [
    "def time_of_trip(datum, city):\n",
    "    \"\"\"\n",
    "    Takes as input a dictionary containing info about a single trip (datum) and\n",
    "    its origin city (city) and returns the month, hour, and day of the week in\n",
    "    which the trip was made.\n",
    "    \n",
    "    Remember that NYC includes seconds, while Washington and Chicago do not.\n",
    "    \n",
    "    HINT: You should use the datetime module to parse the original date\n",
    "    strings into a format that is useful for extracting the desired information.\n",
    "    see https://docs.python.org/3/library/datetime.html#strftime-and-strptime-behavior\n",
    "    \"\"\"\n",
    "    \n",
    "    if city==\"Washington\": \n",
    "        date1=datum['Start date']\n",
    "        date1=datetime.strptime(date1, '%m/%d/%Y %H:%M')\n",
    "    \n",
    "    elif city==\"NYC\":\n",
    "        date1=datum['starttime']\n",
    "        date1=datetime.strptime(date1, '%m/%d/%Y %H:%M:%S')\n",
    "    \n",
    "    elif city==\"Chicago\": \n",
    "        date1=datum['starttime']\n",
    "        date1=datetime.strptime(date1, '%m/%d/%Y %H:%M')\n",
    "    \n",
    "    \n",
    "    month=date1.month\n",
    "    hour=date1.hour\n",
    "    day_of_week=date1.strftime('%A')\n",
    "    \n",
    "    return (month, hour, day_of_week)\n",
    "\n",
    "\n",
    "# Some tests to check that your code works. There should be no output if all of\n",
    "# the assertions pass. The `example_trips` dictionary was obtained from when\n",
    "# you printed the first trip from each of the original data files.\n",
    "tests = {'NYC': (1, 0, 'Friday'),\n",
    "         'Chicago': (3, 23, 'Thursday'),\n",
    "         'Washington': (3, 22, 'Thursday')}\n",
    "\n",
    "for city in tests:\n",
    "    assert time_of_trip(example_trips[city], city) == tests[city]"
   ]
  },
  {
   "cell_type": "code",
   "execution_count": 5,
   "metadata": {},
   "outputs": [],
   "source": [
    "def type_of_user(datum, city):\n",
    "    \"\"\"\n",
    "    Takes as input a dictionary containing info about a single trip (datum) and\n",
    "    its origin city (city) and returns the type of system user that made the\n",
    "    trip.\n",
    "    \n",
    "    Remember that Washington has different category names compared to Chicago\n",
    "    and NYC. \n",
    "    \"\"\"\n",
    "    \n",
    "    if city==\"Washington\": \n",
    "        u_type=datum['Member Type']\n",
    "        if u_type==\"Registered\":\n",
    "            user_type=\"Subscriber\"\n",
    "        elif u_type==\"Casual\":\n",
    "            user_type=\"Customer\"\n",
    "  \n",
    "    else :\n",
    "        user_type=datum['usertype']\n",
    "         \n",
    "    return user_type\n",
    "\n",
    "\n",
    "# Some tests to check that your code works. There should be no output if all of\n",
    "# the assertions pass. The `example_trips` dictionary was obtained from when\n",
    "# you printed the first trip from each of the original data files.\n",
    "tests = {'NYC': 'Customer',\n",
    "         'Chicago': 'Subscriber',\n",
    "         'Washington': 'Subscriber'}\n",
    "\n",
    "for city in tests:\n",
    "    assert type_of_user(example_trips[city], city) == tests[city]"
   ]
  },
  {
   "cell_type": "markdown",
   "metadata": {},
   "source": [
    "**Question 3b**: Now, use the helper functions you wrote above to create a condensed data file for each city consisting only of the data fields indicated above. In the `/examples/` folder, you will see an example datafile from the [Bay Area Bike Share](http://www.bayareabikeshare.com/open-data) before and after conversion. Make sure that your output is formatted to be consistent with the example file."
   ]
  },
  {
   "cell_type": "code",
   "execution_count": 17,
   "metadata": {},
   "outputs": [],
   "source": [
    "def condense_data(in_file, out_file, city):\n",
    "    \"\"\"\n",
    "    This function takes full data from the specified input file\n",
    "    and writes the condensed data to a specified output file. The city\n",
    "    argument determines how the input file will be parsed.\n",
    "    \n",
    "    HINT: See the cell below to see how the arguments are structured!\n",
    "    \"\"\"\n",
    "    \n",
    "    with open(out_file, 'w') as f_out, open(in_file, 'r') as f_in:\n",
    "        # set up csv DictWriter object - writer requires column names for the\n",
    "        # first row as the \"fieldnames\" argument\n",
    "        out_colnames = ['duration', 'month', 'hour', 'day_of_week', 'user_type']        \n",
    "        trip_writer = csv.DictWriter(f_out, fieldnames = out_colnames)\n",
    "        trip_writer.writeheader()\n",
    "        \n",
    "        ## TODO: set up csv DictReader object ##\n",
    "        trip_reader = list(csv.DictReader(f_in))\n",
    "\n",
    "        # collect data from and process each row\n",
    "        \n",
    "        for row in trip_reader:\n",
    "            \n",
    "            # set up a dictionary to hold the values for the cleaned and trimmed\n",
    "            # data point\n",
    "            new_point = {}\n",
    "            new_point['duration']=duration_in_mins(row, city)\n",
    "            new_point['month'],new_point['hour'],new_point['day_of_week']=time_of_trip(row, city)\n",
    "            new_point['user_type']=type_of_user(row, city)\n",
    "            \n",
    "            trip_writer.writerow(new_point)\n",
    "        \n",
    "\n",
    " \n",
    "            ## TODO: use the helper functions to get the cleaned data from  ##\n",
    "            ## the original data dictionaries.                              ##\n",
    "            ## Note that the keys for the new_point dictionary should match ##\n",
    "            ## the column names set in the DictWriter object above.         ##\n",
    "            \n",
    "\n",
    "            ## TODO: write the processed information to the output file.     ##\n",
    "            ## see https://docs.python.org/3/library/csv.html#writer-objects ##\n",
    "            \n",
    "            "
   ]
  },
  {
   "cell_type": "code",
   "execution_count": 18,
   "metadata": {},
   "outputs": [
    {
     "name": "stdout",
     "output_type": "stream",
     "text": [
      "\n",
      "City: Washington\n",
      "OrderedDict([('duration', '7.123116666666666'),\n",
      "             ('month', '3'),\n",
      "             ('hour', '22'),\n",
      "             ('day_of_week', 'Thursday'),\n",
      "             ('user_type', 'Subscriber')])\n",
      "\n",
      "City: Chicago\n",
      "OrderedDict([('duration', '15.433333333333334'),\n",
      "             ('month', '3'),\n",
      "             ('hour', '23'),\n",
      "             ('day_of_week', 'Thursday'),\n",
      "             ('user_type', 'Subscriber')])\n",
      "\n",
      "City: NYC\n",
      "OrderedDict([('duration', '13.983333333333333'),\n",
      "             ('month', '1'),\n",
      "             ('hour', '0'),\n",
      "             ('day_of_week', 'Friday'),\n",
      "             ('user_type', 'Customer')])\n"
     ]
    }
   ],
   "source": [
    "# Run this cell to check your work\n",
    "city_info = {'Washington': {'in_file': './data/Washington-CapitalBikeshare-2016.csv',\n",
    "                            'out_file': './data/Washington-2016-Summary.csv'},\n",
    "             'Chicago': {'in_file': './data/Chicago-Divvy-2016.csv',\n",
    "                         'out_file': './data/Chicago-2016-Summary.csv'},\n",
    "             'NYC': {'in_file': './data/NYC-CitiBike-2016.csv',\n",
    "                     'out_file': './data/NYC-2016-Summary.csv'}}\n",
    "\n",
    "for city, filenames in city_info.items():\n",
    "    condense_data(filenames['in_file'], filenames['out_file'], city)\n",
    "    print_first_point(filenames['out_file'])"
   ]
  },
  {
   "cell_type": "markdown",
   "metadata": {},
   "source": [
    "> **Tip**: If you save a jupyter Notebook, the output from running code blocks will also be saved. However, the state of your workspace will be reset once a new session is started. Make sure that you run all of the necessary code blocks from your previous session to reestablish variables and functions before picking up where you last left off.\n",
    "\n",
    "<a id='eda'></a>\n",
    "## Exploratory Data Analysis\n",
    "\n",
    "Now that you have the data collected and wrangled, you're ready to start exploring the data. In this section you will write some code to compute descriptive statistics from the data. You will also be introduced to the `matplotlib` library to create some basic histograms of the data.\n",
    "\n",
    "<a id='statistics'></a>\n",
    "### Statistics\n",
    "\n",
    "First, let's compute some basic counts. The first cell below contains a function that uses the csv module to iterate through a provided data file, returning the number of trips made by subscribers and customers. The second cell runs this function on the example Bay Area data in the `/examples/` folder. Modify the cells to answer the question below.\n",
    "\n",
    "**Question 4a**: Which city has the highest number of trips? Which city has the highest proportion of trips made by subscribers? Which city has the highest proportion of trips made by short-term customers?\n",
    "\n",
    "**Answer**: NYC has the highest number of trips where almost 89% of trips were made by subscribers. Chicago has the highest proportion of trips made by customers, which is 23.77%"
   ]
  },
  {
   "cell_type": "code",
   "execution_count": 10,
   "metadata": {},
   "outputs": [],
   "source": [
    "def number_of_trips(filename):\n",
    "    \"\"\"\n",
    "    This function reads in a file with trip data and reports the number of\n",
    "    trips made by all users, the proportion of trips made by subscribers, and the proportion of trips \n",
    "    made by customers.\n",
    "    \"\"\"\n",
    "    with open(filename, 'r') as f_in:\n",
    "        # set up csv reader object\n",
    "        reader = csv.DictReader(f_in)\n",
    "        \n",
    "        # initialize count variables\n",
    "        n_subscribers = 0\n",
    "        n_customers = 0\n",
    "        \n",
    "        # tally up ride types\n",
    "        for row in reader:\n",
    "            if row['user_type'] == 'Subscriber':\n",
    "                n_subscribers += 1\n",
    "            else:\n",
    "                n_customers += 1\n",
    "        \n",
    "        # compute total number of rides\n",
    "        n_total = n_subscribers + n_customers\n",
    "        \n",
    "        # return tallies as a tuple\n",
    "        return((n_subscribers/n_total)*100, (n_customers/n_total)*100, n_total)"
   ]
  },
  {
   "cell_type": "code",
   "execution_count": 15,
   "metadata": {},
   "outputs": [
    {
     "name": "stdout",
     "output_type": "stream",
     "text": [
      "(78.0282242257938, 21.971775774206193, 66326)\n"
     ]
    }
   ],
   "source": [
    "## Modify this and the previous cell to answer Question 4a. Remember to run ##\n",
    "## the function on the cleaned data files you created from Question 3.      ##\n",
    "\n",
    "data_file ='./data/Washington-2016-Summary.csv'\n",
    "print(number_of_trips(data_file))"
   ]
  },
  {
   "cell_type": "code",
   "execution_count": 16,
   "metadata": {},
   "outputs": [
    {
     "name": "stdout",
     "output_type": "stream",
     "text": [
      "(76.22520136973007, 23.774798630269924, 72131)\n"
     ]
    }
   ],
   "source": [
    "data_file ='./data/Chicago-2016-Summary.csv'\n",
    "print(number_of_trips(data_file))"
   ]
  },
  {
   "cell_type": "code",
   "execution_count": 17,
   "metadata": {},
   "outputs": [
    {
     "name": "stdout",
     "output_type": "stream",
     "text": [
      "(88.83590199351151, 11.164098006488485, 276798)\n"
     ]
    }
   ],
   "source": [
    "data_file ='./data/NYC-2016-Summary.csv'\n",
    "print(number_of_trips(data_file)) "
   ]
  },
  {
   "cell_type": "markdown",
   "metadata": {},
   "source": [
    "> **Tip**: In order to add additional cells to a notebook, you can use the \"Insert Cell Above\" and \"Insert Cell Below\" options from the menu bar above. There is also an icon in the toolbar for adding new cells, with additional icons for moving the cells up and down the document. By default, new cells are of the code type; you can also specify the cell type (e.g. Code or Markdown) of selected cells from the Cell menu or the dropdown in the toolbar.\n",
    "\n",
    "Now, you will write your own code to continue investigating properties of the data.\n",
    "\n",
    "**Question 4b**: Bike-share systems are designed for riders to take short trips. Most of the time, users are allowed to take trips of 30 minutes or less with no additional charges, with overage charges made for trips of longer than that duration. What is the average trip length for each city? What proportion of rides made in each city are longer than 30 minutes?\n",
    "\n",
    "**Answer**:\n",
    "In Washington, the average trip length is 19 and 10.8% of trips are longer than 30 minutes.\n",
    "In Chicago, the average trip length is 17 and 8.3% of trips are longer than 30 minutes.\n",
    "In NYC, the average trip length is 16 and 7.3% of trips are longer than 30 minutes.\n",
    "\n",
    " "
   ]
  },
  {
   "cell_type": "code",
   "execution_count": 23,
   "metadata": {
    "scrolled": true
   },
   "outputs": [],
   "source": [
    "## Use this and additional cells to answer Question 4b.                 ##\n",
    "##                                                                      ##\n",
    "## HINT: The csv module reads in all of the data as strings, including  ##\n",
    "## numeric values. You will need a function to convert the strings      ##\n",
    "## into an appropriate numeric type before you aggregate data.          ##\n",
    "## TIP: For the Bay Area example, the average trip length is 14 minutes ##\n",
    "## and 3.5% of trips are longer than 30 minutes.                        ##\n",
    "def avg_trip_length(filename):\n",
    "    \"\"\"\n",
    "    This function reads in a file with trip data and reports the avg of\n",
    "    trip length and proportion of rides made that are longer than 30 minutes\n",
    "    \"\"\"\n",
    "    with open(filename, 'r') as f_in:\n",
    "        # set up csv reader object\n",
    "        reader = csv.DictReader(f_in)\n",
    "        \n",
    "        # total duration \n",
    "        total_duration=0 \n",
    "        count=0\n",
    "        longer_trip=0\n",
    "        \n",
    "        # \n",
    "        for row in reader:\n",
    "                count+= 1\n",
    "                total_duration+=float(row['duration'])\n",
    "                if float(row['duration'])>30:\n",
    "                    longer_trip+=1\n",
    "                    \n",
    "        return(round((total_duration)/count),round((longer_trip/count)*100,1))\n"
   ]
  },
  {
   "cell_type": "code",
   "execution_count": 24,
   "metadata": {},
   "outputs": [
    {
     "name": "stdout",
     "output_type": "stream",
     "text": [
      "(19, 10.8)\n"
     ]
    }
   ],
   "source": [
    "data_file ='./data/Washington-2016-Summary.csv'\n",
    "print(avg_trip_length(data_file))"
   ]
  },
  {
   "cell_type": "code",
   "execution_count": 25,
   "metadata": {},
   "outputs": [
    {
     "name": "stdout",
     "output_type": "stream",
     "text": [
      "(17, 8.3)\n"
     ]
    }
   ],
   "source": [
    "data_file ='./data/Chicago-2016-Summary.csv'\n",
    "print(avg_trip_length(data_file))"
   ]
  },
  {
   "cell_type": "code",
   "execution_count": 26,
   "metadata": {},
   "outputs": [
    {
     "name": "stdout",
     "output_type": "stream",
     "text": [
      "(16, 7.3)\n"
     ]
    }
   ],
   "source": [
    "data_file ='./data/NYC-2016-Summary.csv'\n",
    "print(avg_trip_length(data_file))"
   ]
  },
  {
   "cell_type": "markdown",
   "metadata": {},
   "source": [
    "**Question 4c**: Dig deeper into the question of trip duration based on ridership. Choose one city. Within that city, which type of user takes longer rides on average: Subscribers or Customers?\n",
    "\n",
    "**Answer**: in NYC the suscriber's average trip duration is 13.7 and the customer average trip duration is 32.8"
   ]
  },
  {
   "cell_type": "code",
   "execution_count": 27,
   "metadata": {},
   "outputs": [
    {
     "name": "stdout",
     "output_type": "stream",
     "text": [
      "(13.7, 32.8)\n"
     ]
    }
   ],
   "source": [
    "## Use this and additional cells to answer Question 4c. If you have    ##\n",
    "## not done so yet, consider revising some of your previous code to    ##\n",
    "## make use of functions for reusability.                              ##\n",
    "##                                                                     ##\n",
    "## TIP: For the Bay Area example data, you should find the average     ##\n",
    "## Subscriber trip duration to be 9.5 minutes and the average Customer ##\n",
    "## trip duration to be 54.6 minutes. Do the other cities have this     ##\n",
    "## level of difference?                                                ##\n",
    "\n",
    "def avg_tripduration_usertype(filename):\n",
    "    \"\"\"\n",
    "    This function reads in a file with trip data and return the avg trip duration for subscribers and the\n",
    "    avg trip duration for customers\n",
    "    \"\"\"\n",
    "    with open(filename, 'r') as f_in:\n",
    "        # set up csv reader object\n",
    "        reader = csv.DictReader(f_in)\n",
    "        \n",
    "        # initialize count variables\n",
    "        n_subscribers = 0\n",
    "        n_customers = 0\n",
    "        total_subscriber_duration=0 \n",
    "        total_customer_duration=0 \n",
    "        \n",
    "        \n",
    "        for row in reader:\n",
    "            if row['user_type'] == 'Subscriber':\n",
    "                n_subscribers += 1\n",
    "                total_subscriber_duration+=float(row['duration'])\n",
    "            else:\n",
    "                n_customers += 1\n",
    "                total_customer_duration+=float(row['duration'])\n",
    "        \n",
    "        return round(total_subscriber_duration/n_subscribers,1) ,round(total_customer_duration/n_customers,1)\n",
    "\n",
    "data_file ='./data/NYC-2016-Summary.csv' \n",
    "print(avg_tripduration_usertype(data_file))"
   ]
  },
  {
   "cell_type": "markdown",
   "metadata": {},
   "source": [
    "<a id='visualizations'></a>\n",
    "### Visualizations\n",
    "\n",
    "The last set of values that you computed should have pulled up an interesting result. While the mean trip time for Subscribers is well under 30 minutes, the mean trip time for Customers is actually _above_ 30 minutes! It will be interesting for us to look at how the trip times are distributed. In order to do this, a new library will be introduced here, `matplotlib`. Run the cell below to load the library and to generate an example plot."
   ]
  },
  {
   "cell_type": "code",
   "execution_count": 33,
   "metadata": {},
   "outputs": [
    {
     "data": {
      "image/png": "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\n",
      "text/plain": [
       "<matplotlib.figure.Figure at 0x7f2386f765c0>"
      ]
     },
     "metadata": {
      "needs_background": "light"
     },
     "output_type": "display_data"
    }
   ],
   "source": [
    "# load library\n",
    "import matplotlib.pyplot as plt\n",
    "\n",
    "# this is a 'magic word' that allows for plots to be displayed\n",
    "# inline with the notebook. If you want to know more, see:\n",
    "# http://ipython.readthedocs.io/en/stable/interactive/magics.html\n",
    "%matplotlib inline \n",
    "\n",
    "# example histogram, data taken from bay area sample\n",
    "data = [ 7.65,  8.92,  7.42,  5.50, 16.17,  4.20,  8.98,  9.62, 11.48, 14.33,\n",
    "        19.02, 21.53,  3.90,  7.97,  2.62,  2.67,  3.08, 14.40, 12.90,  7.83,\n",
    "        25.12,  8.30,  4.93, 12.43, 10.60,  6.17, 10.88,  4.78, 15.15,  3.53,\n",
    "         9.43, 13.32, 11.72,  9.85,  5.22, 15.10,  3.95,  3.17,  8.78,  1.88,\n",
    "         4.55, 12.68, 12.38,  9.78,  7.63,  6.45, 17.38, 11.90, 11.52,  8.63,]\n",
    "plt.hist(data)\n",
    "plt.title('Distribution of Trip Durations')\n",
    "plt.xlabel('Duration (m)')\n",
    "plt.show()"
   ]
  },
  {
   "cell_type": "markdown",
   "metadata": {},
   "source": [
    "In the above cell, we collected fifty trip times in a list, and passed this list as the first argument to the `.hist()` function. This function performs the computations and creates plotting objects for generating a histogram, but the plot is actually not rendered until the `.show()` function is executed. The `.title()` and `.xlabel()` functions provide some labeling for plot context.\n",
    "\n",
    "You will now use these functions to create a histogram of the trip times for the city you selected in question 4c. Don't separate the Subscribers and Customers for now: just collect all of the trip times and plot them."
   ]
  },
  {
   "cell_type": "code",
   "execution_count": 34,
   "metadata": {},
   "outputs": [
    {
     "data": {
      "image/png": "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\n",
      "text/plain": [
       "<matplotlib.figure.Figure at 0x7f23a8739f28>"
      ]
     },
     "metadata": {
      "needs_background": "light"
     },
     "output_type": "display_data"
    }
   ],
   "source": [
    "## Use this and additional cells to collect all of the trip times as a list ##\n",
    "## and then use pyplot functions to generate a histogram of trip times.     ##\n",
    "def duration_list(filename):\n",
    "\n",
    "    with open(filename, 'r') as f_in:\n",
    "        # set up csv reader object\n",
    "        reader = csv.DictReader(f_in)\n",
    "        d_list=[]\n",
    "        # \n",
    "        for row in reader:\n",
    "                d_list.append(round(float(row['duration']),2))  \n",
    "                              \n",
    "    return d_list\n",
    "\n",
    "\n",
    "data_file ='./data/NYC-2016-Summary.csv'\n",
    "data= duration_list(data_file)                            \n",
    "                            \n",
    "plt.hist(data)\n",
    "plt.title('Distribution of Trip Durations')\n",
    "plt.xlabel('Duration (m)')\n",
    "plt.show()\n"
   ]
  },
  {
   "cell_type": "markdown",
   "metadata": {},
   "source": [
    "If you followed the use of the `.hist()` and `.show()` functions exactly like in the example, you're probably looking at a plot that's completely unexpected. The plot consists of one extremely tall bar on the left, maybe a very short second bar, and a whole lot of empty space in the center and right. Take a look at the duration values on the x-axis. This suggests that there are some highly infrequent outliers in the data. Instead of reprocessing the data, you will use additional parameters with the `.hist()` function to limit the range of data that is plotted. Documentation for the function can be found [[here]](https://matplotlib.org/devdocs/api/_as_gen/matplotlib.pyplot.hist.html#matplotlib.pyplot.hist).\n",
    "\n",
    "**Question 5**: Use the parameters of the `.hist()` function to plot the distribution of trip times for the Subscribers in your selected city. Do the same thing for only the Customers. Add limits to the plots so that only trips of duration less than 75 minutes are plotted. As a bonus, set the plots up so that bars are in five-minute wide intervals. For each group, where is the peak of each distribution? How would you describe the shape of each distribution?\n",
    "\n",
    "**Answer**: \n",
    "For subscribers, the peak is around 180,000 for 1-15 minutes duration. The shape is skewed to the left.\n",
    "For customers, the peak is around 14,000 for 15-30 minutes duration. The shape is more normally distributed than subscribers' shape.\n"
   ]
  },
  {
   "cell_type": "code",
   "execution_count": 35,
   "metadata": {},
   "outputs": [
    {
     "data": {
      "image/png": "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\n",
      "text/plain": [
       "<matplotlib.figure.Figure at 0x7f23873861d0>"
      ]
     },
     "metadata": {
      "needs_background": "light"
     },
     "output_type": "display_data"
    }
   ],
   "source": [
    "## Use this and additional cells to answer Question 5. ##\n",
    "def duration_list_Subscriber(filena me):\n",
    "\n",
    "    with open(filename, 'r') as f_in:\n",
    "        # set up csv reader object\n",
    "        reader = csv.DictReader(f_in)\n",
    "        d_list=[]\n",
    "        # \n",
    "        for row in reader:\n",
    "            if row['user_type'] == 'Subscriber':\n",
    "                d_list.append(round(float(row['duration']),2))  \n",
    "                              \n",
    "    return d_list\n",
    "\n",
    "\n",
    "data_file = './data/NYC-2016-Summary.csv'\n",
    "data= duration_list_Subscriber(data_file)                            \n",
    "                            \n",
    "plt.hist(data,bins=5,range=(1,75))\n",
    "plt.title('Distribution of Trip Durations for Subscribers')\n",
    "plt.xlabel('Duration (m)')\n",
    "plt.show()\n"
   ]
  },
  {
   "cell_type": "code",
   "execution_count": 37,
   "metadata": {},
   "outputs": [
    {
     "data": {
      "image/png": "iVBORw0KGgoAAAANSUhEUgAAAYcAAAEWCAYAAACNJFuYAAAABHNCSVQICAgIfAhkiAAAAAlwSFlzAAALEgAACxIB0t1+/AAAADl0RVh0U29mdHdhcmUAbWF0cGxvdGxpYiB2ZXJzaW9uIDIuMS4wLCBodHRwOi8vbWF0cGxvdGxpYi5vcmcvpW3flQAAIABJREFUeJzt3Xu8VVW99/HPN/AuCsrWDEj0kSy0442Qjs85edQUL4nnPPaEWZKHDq9XhzrdC7MTZVp6ulg+lkVKeMtLlEdSy0glT6Xo9gpIyk5JtqBsBLwror/njzFWTtZc+7q2rgV836/Xeu05xxxzrN+cc+31W2PMueZSRGBmZlb0pkYHYGZmzcfJwczMSpwczMysxMnBzMxKnBzMzKzEycHMzEqcHN5Akn4k6T/7qa23SnpW0oA8P0/SR/uj7dzeryVN6q/2evG8Z0paJenxfmrvQUn/0B9tNUojtkHS2ZKelNT+Rj6vNQ/5ew79Q9JSYFdgPfAK8ABwCTAjIl7tQ1sfjYjf9WKdecBlEXFhb54rr/tVYK+I+FBv1+1PkkYADwG7R8TKqmUnAz/OswOArYDnK8sjYvt+jmUg8HJ+jgBeBO4FfhwRP+/P56p63suAtoj46uv1HD2IYQ9gEfDWiFjVT20K+CTwb8BIYA3wR+CMiFhUR7sN31+bKvcc+tf7ImIQsDtwNvBF4KL+fpL8xrUp2h14sjoxAETE5RGxfU4CRwPLK/O1EkM/7qN9cvtvBy4DLpB0el8a2oiO2+7Ayr4khi628QfA1PwYArwNuA44tq9BNpuN6Pj2TET40Q8PYClwRFXZWOBVYN88Pws4M08PJf1zrAVWA/9DStaX5nVeAJ4FvkD6pBXAZOBR4NZC2cDc3jzgm8AdwFPAtcBOedmhQHuteIHxwDrSp+RngfsK7X00T78J+DLwV2AlqUe0Y15WiWNSjm0VcHoX+2nHvH5Hbu/Luf0j8ja/muOY1UUbpe3J5e3A54EFwLpC2aF5+kzgKuDnwDNAK/DOTp5jYN6ukVXlE3Ocg6vbLzzHrDy9V27j1Lxvbs7bOht4PB/7ecA7cv1/z8dhXd4H19TYhq2B84AVwGPAd4Et87Ij8nH9Qt6/y4FTCrEdByzO294OfLrGdo+vOg4X5vITSL2JtXk79u5qv1e1+XZSb/rALo7pH4CPFOY/CswrvP7OI732ngLuB0Z3sb/2AX6fY10AHFto9zLgfODGvM6tpB7//8v1FwP7FeoPB67J+/MRYGrVsb4KuCLv048A44C7gaeBJ4BvNfq9qc/vaY0OYFN5UCM55PJHgY/l6Vm8lhy+CfwI2CI//oHXhvk2aIvX3oAvAbYDtqF2cngM2DfX+QVpmAm6SA55+quVuoXl83gtOfwr0AbsCWwP/BK4tCq2n+S49gNeIr/h1dgfl5AS16C87kPA5M7i7KSNmvVIb1J35X/obQplh+bpM0lvJv+c9/m0vF0Da7TVWXLYmvTG+d7q9gvPMStPV5LDT4Ft8/55E+lNZFBu63ygtbD+ZcBXa2xXZRu+AfwJaAF2AeYD0/OyI0jDmtPz9h0PPAfskJd3AH+fp3eikzfr3M7Swvw7SG+kh+V2v5SP2xad7feq9j4O/KWbY9pVcjiW9KFnx7z/RgNvrrW/gC1Jb+JfyLEekWPfq1B/JXBA3v+/z/U/SBquPBuYm+sOIA0lfim3uxfp/+bwwrFeB7wvx7UNcCdwUl4+CDi40e9NfX14WOn1t5z0j1jtZWA30vj6yxHxP5FfUV34akQ8FxEvdLL80ohYGBHPAf8J/N/KCes6nQx8NyIejohngdOAiVXd6K9FxAsRcR9wHylJbCDH8gHgtIh4JiKWAt8BPtwPMVZ8PyLau9hH8yPimoh4GfgWsAPwrp42HhEvknp6tY5pZ6ZHxPN5/7waEbPy9r9ISswHSdquh22dTHoddEQafjuDDfffi6QPIC9HxBxSon5bXvYyMFrSoIhYHRF39/A5JwJzIuLmvN/OJu23gwt1utrvO5N6On31cn6+twNExAMR0dkFC4eQ3si/lffB74Bf522o+EVE3JP3/38Dz0bEzyLiFVJP4IBcbxwpsX4jItZFRBtpmLjY1h8i4lf5uL6QYx0laed8jOfXsd0N5eTw+htGejOp9i3Sp9bfSnpY0rQetLWsF8v/SvrkNLRHUXbtLbm9YtsDSd3xiuI/6/OkHka1oaR/3Oq2hvVDjBU93kf5zeAx0vb1iKStSYmh1jHt9jklDZD0X/mYP016DUDPj9NudL3/VuXtqigei38m9SYezVe3Fd/cu7LB8Y90gUV71fN2td+fzHH3SUT8ltTLvgB4Il/1N6iLWB+t+qBVvY+eKEy/UGO+sr92B94qaW3lQeqRvLlQv3q7TyX1bB6UdIekY7rfwubk5PA6kvQu0ovyD9XL8qeKz0bEnqRu6WckHV5Z3EmT3fUsRhSm30r6FLOKNLSwbSGuAaRhiZ62u5z0j1Jsez0b/lP1xKocU3Vbj/Wyna70eB9JehPp+CzvRfsnkD6N35nnN9i3bPjGkQLa8I3qFOAY0hDNjqShCgBVqnfz/Cvo4/6LiPkRcTxpOOo64MqerEfV8c/7bXjV83YV903ASEkHdFGny/0YEd+LiANJw6ajgc908rzLgRH56qiKvr7GlgFLImJw4TEoIt5XDK0qzgcjYiJpH38H+EX+QLHRcXJ4HUjaQdJxpH++yyJiQY06x0naK7+InyadsKt84nuCNL7fWx+SNFrStqThhtn5U+RDwNaSjpW0Bekk8FaF9Z4g/fN29nq4Avi0pD0kbU8a974qItb3Jrgcy9XAWZIGSdqd9E9+WW/aqdNYSRPyfvgc6UTind2sg6SdJX2YdOLymxGxNi+6lzzEJmks8C/dNDWIlFyeJL0ZnlW1vLtjfwXwFUlDJbWQhg+73X+StpH0QUk75KGhZ3jt9dadq4HjJR2a99vn8/o9GjKJiMXADOAqSe+RtGUhns/navcC/yeXv410nqsS+9j8GEhKIuvo/H/lT6QPLp+VtIWkw0jJ+OoebmvRbcA6SZ+VtHXu9b1T0kGdrSDpw5KG5t7VU6Tk0atL2ZuFk0P/+pWkZ0ifOE4nXUlyaid1RwG/I50suw34YUTMy8u+CXw5d2U/14vnv5R00vtx0sm2/wCIiKdIV3ZcSPoE9RxpWKCict3+k5JqjUPPzG3fSjp59yLwiV7EVfSJ/PwPk3pUP8vtv1GuAT5EGhb6APAv3SS5RZKeBZaQjuUnIuKMwvLTSWPha0lv1D/r5vl/Svp0u5x09c+fqpZfCOwnaY2k2TXW/xrpnM4C0lU780mvl56YBPw1D2dNpofneiJ9D2ESaVing3RF0/E5yfTU1Lz+BaTvOCwhDXFdn5d/m/RGupL0eigmvMGksf61pBPCK4Bz87IN9ldEvETqiU8g9VTPAz4YEQ/1IlYA8uviGNJVh0tzez8mnf/ozDHA4vw+8G3gAxGxrrfP3Qz8JTjbbEg6ExgeER9pdCxmzc49BzMzK3FyMDOzEg8rmZlZiXsOZmZWstHeKGro0KExcuTIRodhZrZRueuuu1ZFREt39Tba5DBy5EhaW1sbHYaZ2UZF0l+7r+VhJTMzq8HJwczMSpwczMysxMnBzMxKnBzMzKzEycHMzEqcHMzMrMTJwczMSrpNDpJmSlopaWGNZZ+TFJKG5nlJOk9Sm6T7JR1YqDtJ0pL8mFQoP0jSgrzOeVW/4GRmZg3Qk29IzwLOBy4pFkoaAbwXeLRQfDTpR2xGkX58/ALgYEk7AdOBMaQf9LhL0pyIWJPrTAFuB24g/ZDIr/u+SVbLyGnXd19pE7P07GMbHYLZRqvbnkNE3ErtH1M/l/Rj28Xbuk4ALonkdmCwpN2Ao4C5EbE6J4S5wPi8bIeIuC3/zu4lpN/oNTOzBurTOQdJxwOPRcR9VYuGkX4is6I9l3VV3l6jvLPnnSKpVVJrR0dHX0I3M7Me6HVyyD9efzrwlVqLa5RFH8priogZETEmIsa0tHR7U0EzM+ujvvQc/hewB3CfpKXAcOBuSW8mffIfUag7nPRD6l2VD69RbmZmDdTr5BARCyJil4gYGREjSW/wB0bE48Ac4JR81dI44KmIWAHcCBwpaYikIcCRwI152TOSxuWrlE4Bru2nbTMzsz7qyaWsVwC3AXtLapc0uYvqNwAPA23AT4B/B4iI1cDXgTvz44xcBvAx4MK8zl/wlUpmZg3X7aWsEXFSN8tHFqYDmNpJvZnAzBrlrcC+3cVhZmZvHH9D2szMSpwczMysxMnBzMxKnBzMzKzEycHMzEqcHMzMrMTJwczMSpwczMysxMnBzMxKnBzMzKzEycHMzEqcHMzMrMTJwczMSpwczMysxMnBzMxKnBzMzKzEycHMzEqcHMzMrMTJwczMSpwczMyspNvkIGmmpJWSFhbKviXpz5Lul3SNpMGFZadJapP0oKSjCuXjc1mbpGmF8j0kzZe0RNJVkrbszw00M7Pe60nPYRYwvqpsLrBvRPwd8BBwGoCk0cBEYJ+8zg8lDZA0APgBcDQwGjgp1wU4Bzg3IkYBa4DJdW2RmZnVrdvkEBG3Aquryn4bEevz7O3A8Dw9AbgyIl6KiEeANmBsfrRFxMMRsQ64EpggScBhwOy8/sXACXVuk5mZ1ak/zjn8K/DrPD0MWFZY1p7LOivfGVhbSDSV8pokTZHUKqm1o6OjH0I3M7Na6koOkk4H1gOXV4pqVIs+lNcUETMiYkxEjGlpaeltuGZm1kMD+7qipEnAccDhEVF5Q28HRhSqDQeW5+la5auAwZIG5t5Dsb6ZmTVIn3oOksYDXwSOj4jnC4vmABMlbSVpD2AUcAdwJzAqX5m0Jemk9ZycVG4BTszrTwKu7dummJlZf+nJpaxXALcBe0tqlzQZOB8YBMyVdK+kHwFExCLgauAB4DfA1Ih4JfcKPg7cCCwGrs51ISWZz0hqI52DuKhft9DMzHqt22GliDipRnGnb+ARcRZwVo3yG4AbapQ/TLqayczMmoS/IW1mZiVODmZmVuLkYGZmJU4OZmZW4uRgZmYlTg5mZlbi5GBmZiVODmZmVuLkYGZmJU4OZmZW4uRgZmYlTg5mZlbi5GBmZiVODmZmVuLkYGZmJU4OZmZW4uRgZmYlTg5mZlbi5GBmZiVODmZmVtJtcpA0U9JKSQsLZTtJmitpSf47JJdL0nmS2iTdL+nAwjqTcv0lkiYVyg+StCCvc54k9fdGmplZ7/Sk5zALGF9VNg24KSJGATfleYCjgVH5MQW4AFIyAaYDBwNjgemVhJLrTCmsV/1cZmb2Bus2OUTErcDqquIJwMV5+mLghEL5JZHcDgyWtBtwFDA3IlZHxBpgLjA+L9shIm6LiAAuKbRlZmYN0tdzDrtGxAqA/HeXXD4MWFao157Luipvr1FuZmYN1N8npGudL4g+lNduXJoiqVVSa0dHRx9DNDOz7vQ1OTyRh4TIf1fm8nZgRKHecGB5N+XDa5TXFBEzImJMRIxpaWnpY+hmZtadviaHOUDliqNJwLWF8lPyVUvjgKfysNONwJGShuQT0UcCN+Zlz0gal69SOqXQlpmZNcjA7ipIugI4FBgqqZ101dHZwNWSJgOPAu/P1W8AjgHagOeBUwEiYrWkrwN35npnRETlJPfHSFdEbQP8Oj/MzKyBuk0OEXFSJ4sOr1E3gKmdtDMTmFmjvBXYt7s4zMzsjeNvSJuZWYmTg5mZlTg5mJlZiZODmZmVdHtCelM0ctr1jQ7BzKypuedgZmYlTg5mZlbi5GBmZiVODmZmVuLkYGZmJU4OZmZW4uRgZmYlTg5mZlbi5GBmZiVODmZmVuLkYGZmJU4OZmZW4uRgZmYlTg5mZlbi5GBmZiVODmZmVlJXcpD0aUmLJC2UdIWkrSXtIWm+pCWSrpK0Za67VZ5vy8tHFto5LZc/KOmo+jbJzMzq1efkIGkY8B/AmIjYFxgATATOAc6NiFHAGmByXmUysCYi9gLOzfWQNDqvtw8wHvihpAF9jcvMzOpX77DSQGAbSQOBbYEVwGHA7Lz8YuCEPD0hz5OXHy5JufzKiHgpIh4B2oCxdcZlZmZ16HNyiIjHgG8Dj5KSwlPAXcDaiFifq7UDw/L0MGBZXnd9rr9zsbzGOhuQNEVSq6TWjo6OvoZuZmbdqGdYaQjpU/8ewFuA7YCja1SNyiqdLOusvFwYMSMixkTEmJaWlt4HbWZmPVLPsNIRwCMR0RERLwO/BP4eGJyHmQCGA8vzdDswAiAv3xFYXSyvsY6ZmTVAPcnhUWCcpG3zuYPDgQeAW4ATc51JwLV5ek6eJy+/OSIil0/MVzPtAYwC7qgjLjMzq9PA7qvUFhHzJc0G7gbWA/cAM4DrgSslnZnLLsqrXARcKqmN1GOYmNtZJOlqUmJZD0yNiFf6GpeZmdWvz8kBICKmA9Orih+mxtVGEfEi8P5O2jkLOKueWMzMrP/4G9JmZlbi5GBmZiVODmZmVuLkYGZmJU4OZmZW4uRgZmYlTg5mZlbi5GBmZiVODmZmVuLkYGZmJU4OZmZW4uRgZmYlTg5mZlbi5GBmZiVODmZmVuLkYGZmJU4OZmZW4uRgZmYlTg5mZlbi5GBmZiV1JQdJgyXNlvRnSYslvVvSTpLmSlqS/w7JdSXpPEltku6XdGChnUm5/hJJk+rdKDMzq0+9PYfvA7+JiLcD+wGLgWnATRExCrgpzwMcDYzKjynABQCSdgKmAwcDY4HplYRiZmaN0efkIGkH4B+BiwAiYl1ErAUmABfnahcDJ+TpCcAlkdwODJa0G3AUMDciVkfEGmAuML6vcZmZWf3q6TnsCXQAP5V0j6QLJW0H7BoRKwDy311y/WHAssL67bmss/ISSVMktUpq7ejoqCN0MzPrSj3JYSBwIHBBRBwAPMdrQ0i1qEZZdFFeLoyYERFjImJMS0tLb+M1M7Meqic5tAPtETE/z88mJYsn8nAR+e/KQv0RhfWHA8u7KDczswbpc3KIiMeBZZL2zkWHAw8Ac4DKFUeTgGvz9BzglHzV0jjgqTzsdCNwpKQh+UT0kbnMzMwaZGCd638CuFzSlsDDwKmkhHO1pMnAo8D7c90bgGOANuD5XJeIWC3p68Cdud4ZEbG6zrjMzKwOdSWHiLgXGFNj0eE16gYwtZN2ZgIz64nFzMz6j78hbWZmJU4OZmZW4uRgZmYlTg5mZlbi5GBmZiVODmZmVuLkYGZmJU4OZmZW4uRgZmYlTg5mZlbi5GBmZiVODmZmVuLkYGZmJU4OZmZW4uRgZmYlTg5mZlbi5GBmZiVODmZmVuLkYGZmJU4OZmZWUndykDRA0j2Srsvze0iaL2mJpKskbZnLt8rzbXn5yEIbp+XyByUdVW9MZmZWn/7oOXwSWFyYPwc4NyJGAWuAybl8MrAmIvYCzs31kDQamAjsA4wHfihpQD/EZWZmfVRXcpA0HDgWuDDPCzgMmJ2rXAyckKcn5Hny8sNz/QnAlRHxUkQ8ArQBY+uJy8zM6lNvz+F7wBeAV/P8zsDaiFif59uBYXl6GLAMIC9/Ktf/W3mNdTYgaYqkVkmtHR0ddYZuZmad6XNykHQcsDIi7ioW16ga3Szrap0NCyNmRMSYiBjT0tLSq3jNzKznBtax7iHA8ZKOAbYGdiD1JAZLGph7B8OB5bl+OzACaJc0ENgRWF0oryiuY2ZmDdDnnkNEnBYRwyNiJOmE8s0RcTJwC3BirjYJuDZPz8nz5OU3R0Tk8on5aqY9gFHAHX2Ny8zM6ldPz6EzXwSulHQmcA9wUS6/CLhUUhupxzARICIWSboaeABYD0yNiFdeh7hsMzNy2vWNDuENt/TsYxsdgm0i+iU5RMQ8YF6efpgaVxtFxIvA+ztZ/yzgrP6IxczM6udvSJuZWYmTg5mZlTg5mJlZiZODmZmVODmYmVmJk4OZmZU4OZiZWYmTg5mZlTg5mJlZiZODmZmVODmYmVmJk4OZmZU4OZiZWYmTg5mZlTg5mJlZiZODmZmVODmYmVmJk4OZmZU4OZiZWYmTg5mZlfQ5OUgaIekWSYslLZL0yVy+k6S5kpbkv0NyuSSdJ6lN0v2SDiy0NSnXXyJpUv2bZWZm9ain57Ae+GxEvAMYB0yVNBqYBtwUEaOAm/I8wNHAqPyYAlwAKZkA04GDgbHA9EpCMTOzxuhzcoiIFRFxd55+BlgMDAMmABfnahcDJ+TpCcAlkdwODJa0G3AUMDciVkfEGmAuML6vcZmZWf365ZyDpJHAAcB8YNeIWAEpgQC75GrDgGWF1dpzWWflZmbWIHUnB0nbA78APhURT3dVtUZZdFFe67mmSGqV1NrR0dH7YM3MrEfqSg6StiAlhssj4pe5+Ik8XET+uzKXtwMjCqsPB5Z3UV4SETMiYkxEjGlpaakndDMz60I9VysJuAhYHBHfLSyaA1SuOJoEXFsoPyVftTQOeCoPO90IHClpSD4RfWQuMzOzBhlYx7qHAB8GFki6N5d9CTgbuFrSZOBR4P152Q3AMUAb8DxwKkBErJb0deDOXO+MiFhdR1xmZlanPieHiPgDtc8XABxeo34AUztpayYws6+xmJlZ//I3pM3MrMTJwczMSpwczMysxMnBzMxKnBzMzKzEycHMzEqcHMzMrMTJwczMSur5hrSZNZmR065vdAhvqKVnH9voEDZZ7jmYmVmJk4OZmZU4OZiZWYmTg5mZlTg5mJlZiZODmZmVODmYmVmJk4OZmZX4S3BmttHa3L70B2/cF//cczAzsxInBzMzK3FyMDOzkqZJDpLGS3pQUpukaY2Ox8xsc9YUyUHSAOAHwNHAaOAkSaMbG5WZ2earKZIDMBZoi4iHI2IdcCUwocExmZlttprlUtZhwLLCfDtwcHUlSVOAKXn2WUkP9rD9ocCquiJ8/TnG/uEY+8fGECNsHHH2a4w6p+4mdu9JpWZJDqpRFqWCiBnAjF43LrVGxJi+BPZGcYz9wzH2j40hRtg44twYYqylWYaV2oERhfnhwPIGxWJmttlrluRwJzBK0h6StgQmAnMaHJOZ2WarKYaVImK9pI8DNwIDgJkRsagfn6LXQ1EN4Bj7h2PsHxtDjLBxxLkxxFiiiNLQvpmZbeaaZVjJzMyaiJODmZmVbNLJoVlvySFppqSVkhYWynaSNFfSkvx3SINjHCHpFkmLJS2S9Mlmi1PS1pLukHRfjvFruXwPSfNzjFflixwaStIASfdIuq4ZY5S0VNICSfdKas1lTXOsczyDJc2W9Of8unx3M8Uoae+8/yqPpyV9qpli7I1NNjk0+S05ZgHjq8qmATdFxCjgpjzfSOuBz0bEO4BxwNS8/5opzpeAwyJiP2B/YLykccA5wLk5xjXA5AbGWPFJYHFhvhlj/KeI2L9wTX4zHWuA7wO/iYi3A/uR9mfTxBgRD+b9tz9wEPA8cE0zxdgrEbFJPoB3AzcW5k8DTmt0XIV4RgILC/MPArvl6d2ABxsdY1W81wLvbdY4gW2Bu0nfrF8FDKz1OmhQbMNJbwqHAdeRvvTZbDEuBYZWlTXNsQZ2AB4hX0TTjDFWxXUk8MdmjrG7xybbc6D2LTmGNSiWntg1IlYA5L+7NDiev5E0EjgAmE+TxZmHa+4FVgJzgb8AayNifa7SDMf9e8AXgFfz/M40X4wB/FbSXfk2NdBcx3pPoAP4aR6eu1DSdk0WY9FE4Io83awxdmlTTg49uiWHdU3S9sAvgE9FxNONjqdaRLwSqRs/nHQDx3fUqvbGRvUaSccBKyPirmJxjaqNfm0eEhEHkoZhp0r6xwbHU20gcCBwQUQcADxHkw7P5PNHxwM/b3Qs9diUk8PGdkuOJyTtBpD/rmxwPEjagpQYLo+IX+biposTICLWAvNI50cGS6p8wbPRx/0Q4HhJS0l3Gz6M1JNophiJiOX570rSOPlYmutYtwPtETE/z88mJYtmirHiaODuiHgizzdjjN3alJPDxnZLjjnApDw9iTTG3zCSBFwELI6I7xYWNU2cklokDc7T2wBHkE5S3gKcmKs1NMaIOC0ihkfESNJr8OaIOJkmilHSdpIGVaZJ4+ULaaJjHRGPA8sk7Z2LDgceoIliLDiJ14aUoDlj7F6jT3q8zieFjgEeIo1Dn97oeApxXQGsAF4mfSKaTBqHvglYkv/u1OAY/zdpqON+4N78OKaZ4gT+Drgnx7gQ+Eou3xO4A2gjde23avQxz3EdClzXbDHmWO7Lj0WV/5VmOtY5nv2B1ny8/xsY0oQxbgs8CexYKGuqGHv68O0zzMysZFMeVjIzsz5ycjAzsxInBzMzK3FyMDOzEicHMzMrcXKwTZKkV/KdMRflu7Z+RlK/vd4lfUTSWwrzF/bXjR0lnSDpK71c53cby90+bePgS1ltkyTp2YjYPk/vAvyMdCO06b1oY0BEvNLJsnnA5yKitT/irWr7T8DxEbGqF+tMAoZHxFn9HY9tntxzsE1epFtCTAE+ruQjks6vLJd0naRD8/Szks6QNB94t6SvSLpT0kJJM/L6JwJjgMtz72QbSfMkjcltnJR/G2GhpHMKz/OspLNyT+Z2SbtWxyrpbcBLlcQgaZakC5R+W+NhSe9R+j2QxZJmFVadQ/pmrlm/cHKwzUJEPEx6vXd3R8ztSLdSPzgi/gCcHxHvioh9gW2A4yJiNumbuidHun//C5WV81DTOaR7KO0PvEvSCYW2b4/0+xO3Av9W4/kPId16vGhIbu/TwK+Ac4F9gHdK2j9v3xpgK0k792B3mHXLycE2J7XuhlrtFdLNBiv+SekX2xaQ3qD36Wb9dwHzIqIj0i25LwcqdzhdR/o9B4C7SL/pUW030q2pi34Vafx3AfBERCyIiFdJt7ootrESeAtm/WBg91XMNn6S9iS98a8k/cpd8YPR1oXpFyvnGSRtDfwQGBMRyyR9tapuzafqYtnL8dpJvleo/f/3ArBjVdlL+e+rhenKfLGNrfP6ZnVzz8E2eZJagB+RhoiC9Ktn+0t6k6QRpNtT11JJBKvy71qcWFj2DDCoxjrzgfdIGpp/qvYk4Pe9CHcxsFcv6gN/u4vum0nbZlY39xxsU7VN/oW4LUg9hUuByq3H/0j6yckG/z/yAAAAkklEQVQFpLu5Vo/xA+k3IiT9JNdbSroNfMUs4EeSXiD9zGdlnRWSTiPdklvADRHRm1s03wp8R5IKvYyeOIh0PmN9tzXNesCXspo1GUnfJ51n+F0v15kTETe9fpHZ5sTDSmbN5xuk3wXojYVODNaf3HMwM7MS9xzMzKzEycHMzEqcHMzMrMTJwczMSpwczMys5P8Dwi5HJrQcyvAAAAAASUVORK5CYII=\n",
      "text/plain": [
       "<matplotlib.figure.Figure at 0x7f2387ab50f0>"
      ]
     },
     "metadata": {
      "needs_background": "light"
     },
     "output_type": "display_data"
    }
   ],
   "source": [
    "def duration_list_Customer(filename):\n",
    "\n",
    "    with open(filename, 'r') as f_in:\n",
    "        # set up csv reader object\n",
    "        reader = csv.DictReader(f_in)\n",
    "        d_list=[]\n",
    "        # \n",
    "        for row in reader:\n",
    "            if row['user_type'] == 'Customer':\n",
    "                d_list.append(round(float(row['duration']),2))  \n",
    "                              \n",
    "    return d_list\n",
    "\n",
    "\n",
    "data_file ='./data/NYC-2016-Summary.csv'\n",
    "data= duration_list_Customer(data_file)                            \n",
    "                            \n",
    "plt.hist(data,bins=5,range=(1,75))\n",
    "plt.title('Distribution of Trip Durations for Customers')\n",
    "plt.xlabel('Duration (m)')\n",
    "plt.show()"
   ]
  },
  {
   "cell_type": "markdown",
   "metadata": {
    "collapsed": true
   },
   "source": [
    "<a id='eda_continued'></a>\n",
    "## Performing Your Own Analysis\n",
    "\n",
    "So far, you've performed an initial exploration into the data available. You have compared the relative volume of trips made between three U.S. cities and the ratio of trips made by Subscribers and Customers. For one of these cities, you have investigated differences between Subscribers and Customers in terms of how long a typical trip lasts. Now it is your turn to continue the exploration in a direction that you choose. Here are a few suggestions for questions to explore:\n",
    "\n",
    "- How does ridership differ by month or season? Which month / season has the highest ridership? Does the ratio of Subscriber trips to Customer trips change depending on the month or season?\n",
    "- Is the pattern of ridership different on the weekends versus weekdays? On what days are Subscribers most likely to use the system? What about Customers? Does the average duration of rides change depending on the day of the week?\n",
    "- During what time of day is the system used the most? Is there a difference in usage patterns for Subscribers and Customers?\n",
    "\n",
    "If any of the questions you posed in your answer to question 1 align with the bullet points above, this is a good opportunity to investigate one of them. As part of your investigation, you will need to create a visualization. If you want to create something other than a histogram, then you might want to consult the [Pyplot documentation](https://matplotlib.org/devdocs/api/pyplot_summary.html). In particular, if you are plotting values across a categorical variable (e.g. city, user type), a bar chart will be useful. The [documentation page for `.bar()`](https://matplotlib.org/devdocs/api/_as_gen/matplotlib.pyplot.bar.html#matplotlib.pyplot.bar) includes links at the bottom of the page with examples for you to build off of for your own use.\n",
    "\n",
    "**Question 6**: Continue the investigation by exploring another question that could be answered by the data available. Document the question you want to explore below. Your investigation should involve at least two variables and should compare at least two groups. You should also use at least one visualization as part of your explorations.\n",
    "\n",
    "**Answer**:which user group (customer or subscriber)is more likely to take a trip on weekends? what was the average trip duration for both on weekends?"
   ]
  },
  {
   "cell_type": "code",
   "execution_count": 49,
   "metadata": {},
   "outputs": [
    {
     "name": "stdout",
     "output_type": "stream",
     "text": [
      "(50580, 13845, 14.854795373665482, 33.03585169134447)\n",
      "(245896, 30902)\n"
     ]
    }
   ],
   "source": [
    "## Use this and additional cells to continue to explore the dataset. ##\n",
    "## Once you have performed your exploration, document your findings  ##\n",
    "## in the Markdown cell above.                                       ##\n",
    "def totaltrips_usertype(filename):\n",
    "    \"\"\"\n",
    "    This function reads in a file with trip data and return the avg trip duration for subscribers and the\n",
    "    avg trip duration for customers on weekends and the total number of trips for both on weekends\n",
    "    \"\"\"\n",
    "    with open(filename, 'r') as f_in:\n",
    "        # set up csv reader object\n",
    "        reader = csv.DictReader(f_in)\n",
    "        \n",
    "        # initialize count variables\n",
    "        total_subscriber = 0\n",
    "        total_customer = 0\n",
    "        avg_subscriber = 0\n",
    "        avg_customer = 0\n",
    "        \n",
    "        for row in reader:\n",
    "            if row['user_type'] == 'Subscriber' and (row['day_of_week'] =='Saturday' or row['day_of_week'] =='Sunday') :\n",
    "                total_subscriber  += 1\n",
    "                avg_subscriber +=float(row['duration'])\n",
    "            elif row['user_type'] == 'Customer' and (row['day_of_week'] =='Saturday' or row['day_of_week'] =='Sunday') :\n",
    "                total_customer += 1\n",
    "                avg_customer += float(row['duration'])\n",
    "                \n",
    "        return total_subscriber,total_customer,avg_subscriber/total_subscriber,avg_customer/total_customer \n",
    "    \n",
    "    \n",
    "def total_trips_bytype(filename):\n",
    "    \"\"\"\n",
    "    This function reads in a file with trip data and reports the number of\n",
    "    subscribers, and customers.\n",
    "    \"\"\"\n",
    "    with open(filename, 'r') as f_in:\n",
    "        # set up csv reader object\n",
    "        reader = csv.DictReader(f_in)\n",
    "        \n",
    "        # initialize count variables\n",
    "        n_subscribers = 0\n",
    "        n_customers = 0\n",
    "        \n",
    "        # tally up ride types\n",
    "        for row in reader:\n",
    "            if row['user_type'] == 'Subscriber':\n",
    "                n_subscribers += 1\n",
    "            else:\n",
    "                n_customers += 1\n",
    "        \n",
    "           \n",
    "        # return tallies as a tuple\n",
    "        return n_subscribers,n_customers\n",
    "    \n",
    "    \n",
    "data_file = './data/NYC-2016-Summary.csv'\n",
    "print(totaltrips_usertype(data_file))\n",
    "print(total_trips_bytype(data_file))\n",
    "\n"
   ]
  },
  {
   "cell_type": "code",
   "execution_count": 53,
   "metadata": {},
   "outputs": [
    {
     "data": {
      "image/png": "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\n",
      "text/plain": [
       "<matplotlib.figure.Figure at 0x7f2387c3df60>"
      ]
     },
     "metadata": {
      "needs_background": "light"
     },
     "output_type": "display_data"
    }
   ],
   "source": [
    "#for fair comparison, the number of trips made by a user group on weekends is divided by the total trips for that user\n",
    "# data is taken from the results of the two functions above \n",
    "total_trips=((50580/245896)*100,(13845/30902)*100)\n",
    "user_type=('subscribers','cutomers')\n",
    "plt.bar(user_type,total_trips)\n",
    "plt.title('Total trips on weekends')\n",
    "plt.xlabel('user type')\n",
    "plt.show()"
   ]
  },
  {
   "cell_type": "markdown",
   "metadata": {},
   "source": [
    "As we can see in the bar chart above, 40% of customers trips were made on weekends while only 20% of subscribers trips were made in weekends"
   ]
  },
  {
   "cell_type": "code",
   "execution_count": 54,
   "metadata": {},
   "outputs": [
    {
     "data": {
      "image/png": "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\n",
      "text/plain": [
       "<matplotlib.figure.Figure at 0x7f2387386748>"
      ]
     },
     "metadata": {
      "needs_background": "light"
     },
     "output_type": "display_data"
    }
   ],
   "source": [
    "# data is taken from the results of the two functions above \n",
    "avg_duration=(14.85,33.03)\n",
    "user_type=('subscribers','cutomers')\n",
    "plt.bar(user_type,avg_duration)\n",
    "plt.title('Avg trip duration on weekends')\n",
    "plt.xlabel('user type')\n",
    "plt.show()"
   ]
  },
  {
   "cell_type": "markdown",
   "metadata": {},
   "source": [
    "As we can see in the bar chart above, customers' average trip duration on weekends is longer than subscribers' average trip duration."
   ]
  },
  {
   "cell_type": "markdown",
   "metadata": {},
   "source": [
    "<a id='conclusions'></a>\n",
    "## Conclusions\n",
    "\n",
    "Congratulations on completing the project! This is only a sampling of the data analysis process: from generating questions, wrangling the data, and to exploring the data. Normally, at this point in the data analysis process, you might want to draw conclusions about the data by performing a statistical test or fitting the data to a model for making predictions. There are also a lot of potential analyses that could be performed on the data which are not possible with only the data provided. For example, detailed location data has not been investigated. Where are the most commonly used docks? What are the most common routes? As another example, weather has potential to have a large impact on daily ridership. How much is ridership impacted when there is rain or snow? Are subscribers or customers affected more by changes in weather?\n",
    "\n",
    "**Question 7**: Putting the bike share data aside, think of a topic or field of interest where you would like to be able to apply the techniques of data science. What would you like to be able to learn from your chosen subject?\n",
    "\n",
    "**Answer**: the medicine field, I would like to know for example what are the symptoms that some people are likley to have is they share certain characteristics while using a drug\n",
    "\n",
    "> 
    "\n",
    
   ]
  },
  {
   "cell_type": "code",
   "execution_count": 55,
   "metadata": {},
   "outputs": [
    {
     "data": {
      "text/plain": [
       "0"
      ]
     },
     "execution_count": 55,
     "metadata": {},
     "output_type": "execute_result"
    }
   ],
   "source": [
    "from subprocess import call\n",
    "call(['python', '-m', 'nbconvert', 'Bike_Share_Analysis.ipynb'])"
   ]
  },
  {
   "cell_type": "code",
   "execution_count": null,
   "metadata": {},
   "outputs": [],
   "source": []
  }
 ],
 "metadata": {
  "anaconda-cloud": {},
  "kernelspec": {
   "display_name": "Python 3",
   "language": "python",
   "name": "python3"
  },
  "language_info": {
   "codemirror_mode": {
    "name": "ipython",
    "version": 3
   },
   "file_extension": ".py",
   "mimetype": "text/x-python",
   "name": "python",
   "nbconvert_exporter": "python",
   "pygments_lexer": "ipython3",
   "version": "3.6.3"
  }
 },
 "nbformat": 4,
 "nbformat_minor": 1
}
